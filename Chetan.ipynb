{
  "nbformat": 4,
  "nbformat_minor": 0,
  "metadata": {
    "colab": {
      "provenance": []
    },
    "kernelspec": {
      "name": "python3",
      "display_name": "Python 3"
    },
    "language_info": {
      "name": "python"
    }
  },
  "cells": [
    {
      "cell_type": "code",
      "execution_count": null,
      "metadata": {
        "id": "eTnTpWBpl8_h"
      },
      "outputs": [],
      "source": [
        "Import numpy as np\n",
        "Import pandas as pd\n",
        "Import sklearn"
      ]
    },
    {
      "cell_type": "code",
      "source": [
        "from sklearn.databasets impory load _boston\n",
        "df=load_boston()"
      ],
      "metadata": {
        "id": "UoDCFWsqqI5I"
      },
      "execution_count": null,
      "outputs": []
    },
    {
      "cell_type": "code",
      "source": [
        "Df.keys{} ,#return all the keys  of the dataset dictionary"
      ],
      "metadata": {
        "id": "TFlAuB01qLiB"
      },
      "execution_count": null,
      "outputs": []
    },
    {
      "cell_type": "code",
      "source": [
        "Boston=pd.DataFrame(df.data,columns=df.feature_names)\n",
        "Boston.head()"
      ],
      "metadata": {
        "id": "HkneTeHfqODL"
      },
      "execution_count": null,
      "outputs": []
    },
    {
      "cell_type": "code",
      "source": [
        "Boston['MEDV'] =df.target\n",
        "Boston.head()"
      ],
      "metadata": {
        "id": "5JDqbDqVqRkq"
      },
      "execution_count": null,
      "outputs": []
    },
    {
      "cell_type": "code",
      "source": [
        "Boston. Isnull()"
      ],
      "metadata": {
        "id": "75LWL8ycqT86"
      },
      "execution_count": null,
      "outputs": []
    },
    {
      "cell_type": "code",
      "source": [
        "print(df.DESCR) #info about the dataset"
      ],
      "metadata": {
        "id": "fySwdTZIqUpY"
      },
      "execution_count": null,
      "outputs": []
    },
    {
      "cell_type": "code",
      "source": [
        "Boston. Isnull().sum()"
      ],
      "metadata": {
        "id": "WG6KlbTxqYo4"
      },
      "execution_count": null,
      "outputs": []
    },
    {
      "cell_type": "code",
      "source": [
        "from sklearn.model_selection import  train_test_split\n",
        "X= boston.drop('MEDV',axis=1)\n",
        "Y=boston['MEDV']\n",
        "X_train,X_test,Y_train,Y_test=train_test_split(X,Y,test_size=0.15, random_state=5)\n",
        "print(X_train.shape)\n",
        "print(X_test.shape)\n",
        "print(Y_train.shape)\n",
        "print(Y_test.shape)"
      ],
      "metadata": {
        "id": "aJQ7mCylqbuu"
      },
      "execution_count": null,
      "outputs": []
    },
    {
      "cell_type": "code",
      "source": [
        "from sklearn.linear_model import LinearRegression\n",
        "from sklearn.metrics import mean_squared_error"
      ],
      "metadata": {
        "id": "8QMmOsT7qfG3"
      },
      "execution_count": null,
      "outputs": []
    },
    {
      "cell_type": "code",
      "source": [
        "Y_train_predict = lin_model.predict(X_train)\n",
        "rmse=(np.sqrt(mean_squared_error(Y_train_predict)))\n",
        "print(\"The model performance  for training  set\")\n",
        "print('RMSE{}'format(rmse))\n",
        "print(\"\\n\")\n",
        "\n",
        "#on testing set\n",
        "Y_test_predict=lin_model.predict(X_test)\n",
        "rmse=(np.sqrt(mean_squared_error(Y_test,Y_test_predict)))\n",
        "print(\"The Model Performance For Testing\")\n",
        "print('RMSE is {}'.format(rmse))"
      ],
      "metadata": {
        "id": "BEBZk4BTqhYH"
      },
      "execution_count": null,
      "outputs": []
    },
    {
      "cell_type": "code",
      "source": [
        "lin_model= LinearRegression()\n",
        "lin_model.fit(X_train,Y_train)"
      ],
      "metadata": {
        "id": "xVjjg3D-qlkz"
      },
      "execution_count": null,
      "outputs": []
    }
  ]
}